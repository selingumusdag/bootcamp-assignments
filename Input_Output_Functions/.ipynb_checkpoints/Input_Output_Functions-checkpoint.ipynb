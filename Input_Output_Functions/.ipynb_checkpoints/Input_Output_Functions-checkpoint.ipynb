{
 "cells": [
  {
   "cell_type": "code",
   "execution_count": 13,
   "metadata": {},
   "outputs": [
    {
     "name": "stdout",
     "output_type": "stream",
     "text": [
      "20\n"
     ]
    }
   ],
   "source": [
    "with open(\"yasamak.txt\",\"r\",encoding='utf8') as f:\n",
    "    lines=f.readlines()\n",
    "print(len(lines))"
   ]
  },
  {
   "cell_type": "code",
   "execution_count": 43,
   "metadata": {
    "scrolled": true
   },
   "outputs": [],
   "source": [
    "with open(\"yasamak.txt\",\"r\",encoding='utf8') as f:\n",
    "    lines=f.readlines()\n",
    "with open(\"yasamak_edited.txt\",\"w\",encoding='utf8') as f:\n",
    "    for line in lines:\n",
    "        first=line.split(\" \")\n",
    "        #print(first)\n",
    "        f.write(first[0]+\"\\n\")"
   ]
  },
  {
   "cell_type": "code",
   "execution_count": 66,
   "metadata": {},
   "outputs": [
    {
     "name": "stdout",
     "output_type": "stream",
     "text": [
      "Enter a number:3\n",
      "3 is a prime number\n"
     ]
    }
   ],
   "source": [
    "number=input(\"Enter a number:\")\n",
    "number=int(number)\n",
    "if number>1:\n",
    "    for i in range(2,number):\n",
    "        if (number%i)==0:\n",
    "            print(number,\"is not a prime number\")\n",
    "            break\n",
    "        else:\n",
    "            print(number,\"is a prime number\")\n",
    "            break\n",
    "else:\n",
    "    print(number,\"is not a prime number\") \n",
    "    "
   ]
  },
  {
   "cell_type": "code",
   "execution_count": 109,
   "metadata": {},
   "outputs": [
    {
     "name": "stdout",
     "output_type": "stream",
     "text": [
      "[1, 2, 3, 4, 8]\n"
     ]
    }
   ],
   "source": [
    "my_list=[1,1,1,1,2,2,2,3,4,8,3]\n",
    "unique_list=[]\n",
    "size_my_list=len(my_list)\n",
    "\n",
    "for i in range (0,size_my_list):\n",
    "    if len(unique_list)==0:\n",
    "        unique_list.append(my_list[i])\n",
    "    if len(unique_list)>0:\n",
    "        val=0\n",
    "        for j in range(0,len(unique_list)):\n",
    "            if unique_list[j]==my_list[i]:\n",
    "                val=1\n",
    "        if(val==0):\n",
    "            unique_list.append(my_list[i])\n",
    "print(unique_list)\n",
    "        "
   ]
  },
  {
   "cell_type": "code",
   "execution_count": 65,
   "metadata": {},
   "outputs": [
    {
     "name": "stdout",
     "output_type": "stream",
     "text": [
      "29 years\n"
     ]
    }
   ],
   "source": [
    "from datetime import date\n",
    "def calculation_age(birth_date):\n",
    "    today=date.today()\n",
    "    age= today.year-birth_date.year-((today.month, today.day) < \n",
    "         (birth_date.month, birth_date.day))\n",
    "    return age\n",
    "\n",
    "print(calculation_age(date(1990,7,7)),\"years\")\n",
    "    \n",
    "    "
   ]
  }
 ],
 "metadata": {
  "kernelspec": {
   "display_name": "Python 3",
   "language": "python",
   "name": "python3"
  },
  "language_info": {
   "codemirror_mode": {
    "name": "ipython",
    "version": 3
   },
   "file_extension": ".py",
   "mimetype": "text/x-python",
   "name": "python",
   "nbconvert_exporter": "python",
   "pygments_lexer": "ipython3",
   "version": "3.8.0"
  }
 },
 "nbformat": 4,
 "nbformat_minor": 4
}
