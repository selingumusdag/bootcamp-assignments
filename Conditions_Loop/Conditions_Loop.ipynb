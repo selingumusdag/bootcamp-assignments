{
 "cells": [
  {
   "cell_type": "code",
   "execution_count": 1,
   "metadata": {},
   "outputs": [
    {
     "name": "stdout",
     "output_type": "stream",
     "text": [
      "Sicaklik degerini C veya F belirterek giriniz:40C\n",
      "Girdiginiz sicaklik degeri 104.0 F\n"
     ]
    }
   ],
   "source": [
    "temp=input('Sicaklik degerini C veya F belirterek giriniz:')\n",
    "degree=int(temp[:-1])\n",
    "x=temp[-1]\n",
    "if x.upper()== \"C\":\n",
    "    fahrenheit=(9 * degree)/5 + 32\n",
    "    print('Girdiginiz sicaklik degeri',fahrenheit,'F')\n",
    "elif x.upper() == \"F\":\n",
    "    celsius=(5/9)*(degree-32)\n",
    "    print('Girdiginiz sicaklik degeri {:.2f}'.format(celsius),'C')\n",
    "else:\n",
    "    print('Lutfen C veya F olarak belirtiniz')"
   ]
  },
  {
   "cell_type": "code",
   "execution_count": 3,
   "metadata": {},
   "outputs": [
    {
     "name": "stdout",
     "output_type": "stream",
     "text": [
      "Bir kelime giriniz:selin\n",
      "Kelimenizin tersten yazilimi:  niles\n"
     ]
    }
   ],
   "source": [
    "word=input('Bir kelime giriniz:')\n",
    "print(\"Kelimenizin tersten yazilimi: \",word[::-1])"
   ]
  },
  {
   "cell_type": "code",
   "execution_count": 1,
   "metadata": {},
   "outputs": [
    {
     "name": "stdout",
     "output_type": "stream",
     "text": [
      "[1, 1, 2, 3, 5, 8, 13, 21, 34]\n"
     ]
    }
   ],
   "source": [
    "\n",
    "x=[1,1]\n",
    "while (x[-1]+x[-2]<50):\n",
    "    x.append(x[-1]+x[-2])\n",
    "print(x)\n",
    "    \n"
   ]
  },
  {
   "cell_type": "code",
   "execution_count": 8,
   "metadata": {},
   "outputs": [
    {
     "name": "stdout",
     "output_type": "stream",
     "text": [
      "Sayi giriniz:5\n",
      "5 * 1 = 5\n",
      "5 * 2 = 10\n",
      "5 * 3 = 15\n",
      "5 * 4 = 20\n",
      "5 * 5 = 25\n",
      "5 * 6 = 30\n",
      "5 * 7 = 35\n",
      "5 * 8 = 40\n",
      "5 * 9 = 45\n",
      "5 * 10 = 50\n"
     ]
    }
   ],
   "source": [
    "j=input(\"Sayi giriniz:\")\n",
    "j=int(j)\n",
    "for x in range(1,11):\n",
    "    print(j,\"*\",x,\"=\",x*j)\n"
   ]
  },
  {
   "cell_type": "code",
   "execution_count": 15,
   "metadata": {},
   "outputs": [
    {
     "name": "stdout",
     "output_type": "stream",
     "text": [
      "[1, 8, 9, 64, 25, 216, 49, 512, 81, 1000, 121, 1728, 169, 2744, 225, 4096, 289, 5832, 361, 8000]\n"
     ]
    }
   ],
   "source": [
    "tek_liste=[x**3 if x%2==0 else x**2 for x in range(1,21)]\n",
    "print(tek_liste)"
   ]
  },
  {
   "cell_type": "code",
   "execution_count": null,
   "metadata": {},
   "outputs": [],
   "source": [
    "liste=['araba','ab','ba','arab','abara']\n",
    "#araba,ab,arab\n"
   ]
  }
 ],
 "metadata": {
  "kernelspec": {
   "display_name": "Python 3",
   "language": "python",
   "name": "python3"
  },
  "language_info": {
   "codemirror_mode": {
    "name": "ipython",
    "version": 3
   },
   "file_extension": ".py",
   "mimetype": "text/x-python",
   "name": "python",
   "nbconvert_exporter": "python",
   "pygments_lexer": "ipython3",
   "version": "3.8.0"
  }
 },
 "nbformat": 4,
 "nbformat_minor": 4
}
