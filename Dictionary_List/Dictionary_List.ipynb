{
 "cells": [
  {
   "cell_type": "code",
   "execution_count": 2,
   "metadata": {},
   "outputs": [
    {
     "name": "stdout",
     "output_type": "stream",
     "text": [
      "dict_keys(['monday', 'tuesday', 'wednesday', 'thursday', 'friday', 'saturday', 'sunday'])\n",
      "Choose a day you want to remove:monday\n",
      "Choose the second day you want to remove:thursday\n",
      "dict_keys(['tuesday', 'wednesday', 'friday', 'saturday', 'sunday'])\n"
     ]
    }
   ],
   "source": [
    "days={\n",
    "    \"monday\" : 1,\n",
    "    \"tuesday\" :2,\n",
    "    \"wednesday\" :3,\n",
    "    \"thursday\" :4,\n",
    "    \"friday\" :5,\n",
    "    \"saturday\" :6,\n",
    "    \"sunday\" :7\n",
    "}\n",
    "print(days.keys())\n",
    "day1=input('Choose a day you want to remove:')\n",
    "day2=input('Choose the second day you want to remove:')\n",
    "del days[day1]\n",
    "del days[day2]\n",
    "print(days.keys())"
   ]
  },
  {
   "cell_type": "code",
   "execution_count": 14,
   "metadata": {},
   "outputs": [
    {
     "name": "stdout",
     "output_type": "stream",
     "text": [
      "['January', 'February', 'March', 'April', 'May', 'June', 'July', 'August', 'September', 'October', 'November', 'December']\n",
      "[31, 28, 31, 30, 31, 30, 31, 31, 30, 31, 30, 31]\n",
      "92\n"
     ]
    }
   ],
   "source": [
    "months_days=[['January',31], \n",
    "        ['February',28], \n",
    "        ['March',31],\n",
    "        ['April',30],\n",
    "        ['May',31],\n",
    "        ['June',30],\n",
    "        ['July',31],\n",
    "        ['August',31],\n",
    "        ['September',30],\n",
    "        ['October',31],\n",
    "        ['November',30],\n",
    "        ['December',31]]\n",
    "months=[months_days[0][0],months_days[1][0],months_days[2][0],months_days[3][0],months_days[4][0],months_days[5][0],months_days[6][0],months_days[7][0],months_days[8][0],months_days[9][0],months_days[10][0],months_days[11][0]]\n",
    "print(months)\n",
    "days=[months_days[0][1],months_days[1][1],months_days[2][1],months_days[3][1],months_days[4][1],months_days[5][1],months_days[6][1],months_days[7][1],months_days[8][1],months_days[9][1],months_days[10][1],months_days[11][1]]\n",
    "print(days)\n",
    "winter=[months[11],months[0],months[1]]\n",
    "spring=[months[2:5]]\n",
    "summer=[months[5:8]]\n",
    "autumn=[months[8:11]]\n",
    "summer_days=days[5:8]\n",
    "print(summer_days[0]+summer_days[1]+summer_days[2])"
   ]
  },
  {
   "cell_type": "code",
   "execution_count": null,
   "metadata": {},
   "outputs": [],
   "source": []
  }
 ],
 "metadata": {
  "kernelspec": {
   "display_name": "Python 3",
   "language": "python",
   "name": "python3"
  },
  "language_info": {
   "codemirror_mode": {
    "name": "ipython",
    "version": 3
   },
   "file_extension": ".py",
   "mimetype": "text/x-python",
   "name": "python",
   "nbconvert_exporter": "python",
   "pygments_lexer": "ipython3",
   "version": "3.8.0"
  }
 },
 "nbformat": 4,
 "nbformat_minor": 4
}
