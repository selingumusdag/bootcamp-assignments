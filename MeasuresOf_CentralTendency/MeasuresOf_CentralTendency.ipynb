{
 "cells": [
  {
   "cell_type": "code",
   "execution_count": 9,
   "metadata": {},
   "outputs": [
    {
     "name": "stdout",
     "output_type": "stream",
     "text": [
      "Mean of example1 is 80.5247519785689\n",
      "Mean of example2 is 64.92931931083116\n",
      "Mean of example3 is 53.86525330036864\n"
     ]
    }
   ],
   "source": [
    "import numpy as np\n",
    "import pandas as pd\n",
    "data=pd.DataFrame()\n",
    "np.random.seed(1)\n",
    "data['example1']=np.append(np.random.normal(100,20,1000),np.random.normal(60,10,1000))\n",
    "data['example2']=np.append(np.random.normal(80, 8, 1000), np.random.normal(50, 10, 1000))\n",
    "data['example3']=np.append(np.random.normal(8, 10, 1000), np.random.normal(100, 20, 1000))\n",
    "print('Mean of example1 is',data.example1.mean())\n",
    "print('Mean of example2 is',data.example2.mean())\n",
    "print('Mean of example3 is',data.example3.mean())"
   ]
  },
  {
   "cell_type": "code",
   "execution_count": 11,
   "metadata": {},
   "outputs": [
    {
     "name": "stdout",
     "output_type": "stream",
     "text": [
      "Mean of example2 is 65.1686233005449\n"
     ]
    }
   ],
   "source": [
    "mean=sum(data['example2']/len(data['example2']))\n",
    "print('Mean of example2 is',mean)"
   ]
  },
  {
   "cell_type": "code",
   "execution_count": 3,
   "metadata": {},
   "outputs": [
    {
     "name": "stdout",
     "output_type": "stream",
     "text": [
      "Standard deviation of example1 is 25.92720128674143\n"
     ]
    }
   ],
   "source": [
    "print('Standard deviation of example1 is',data.example1.std())"
   ]
  },
  {
   "cell_type": "code",
   "execution_count": 2,
   "metadata": {},
   "outputs": [
    {
     "name": "stdout",
     "output_type": "stream",
     "text": [
      "Standard error of example1 is 0.5797498454347385\n"
     ]
    }
   ],
   "source": [
    "std_error=np.std(data['example1'] ,ddof=1) / np.sqrt(len(data['example1']))\n",
    "print('Standard error of example1 is',std_error)"
   ]
  },
  {
   "cell_type": "code",
   "execution_count": 6,
   "metadata": {},
   "outputs": [
    {
     "name": "stdout",
     "output_type": "stream",
     "text": [
      "Median of example3 is 40.618767984767416\n"
     ]
    }
   ],
   "source": [
    "import statistics\n",
    "print('Median of example3 is',statistics.median(data['example3']))"
   ]
  },
  {
   "cell_type": "code",
   "execution_count": 15,
   "metadata": {},
   "outputs": [
    {
     "name": "stdout",
     "output_type": "stream",
     "text": [
      "Mode of example3 is -24.530342349766187\n",
      "Mode of example3 is 6.596290051283277\n"
     ]
    }
   ],
   "source": [
    "(values, counts) = np.unique(data['example3'], return_counts=True)\n",
    "ind=np.argmax(counts)\n",
    "print('Mode of example3 is',values[ind])\n",
    "print('Mode of example3 is',statistics.mode(data['example3']))"
   ]
  },
  {
   "cell_type": "code",
   "execution_count": null,
   "metadata": {},
   "outputs": [],
   "source": []
  }
 ],
 "metadata": {
  "kernelspec": {
   "display_name": "Python 3",
   "language": "python",
   "name": "python3"
  },
  "language_info": {
   "codemirror_mode": {
    "name": "ipython",
    "version": 3
   },
   "file_extension": ".py",
   "mimetype": "text/x-python",
   "name": "python",
   "nbconvert_exporter": "python",
   "pygments_lexer": "ipython3",
   "version": "3.8.0"
  }
 },
 "nbformat": 4,
 "nbformat_minor": 4
}
